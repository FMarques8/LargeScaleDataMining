{
 "cells": [
  {
   "cell_type": "code",
   "execution_count": 2,
   "metadata": {},
   "outputs": [],
   "source": [
    "import gzip\n",
    "# soluçao: ler uma linha do ficheiro, abrir outro ficheiro e ler as restantes linhas e comparar semelhança\n",
    "\n",
    "# num_lines = sum(1 for line in gzip.open(\"soc-LiveJournal1Adj.txt.gz\"))"
   ]
  },
  {
   "cell_type": "code",
   "execution_count": 3,
   "metadata": {},
   "outputs": [],
   "source": [
    "# similarity threshold -> 5%\n",
    "trsh = 0.05 * sum(1 for line in gzip.open(\"soc-LiveJournal1Adj.txt.gz\")) \n",
    "\n",
    "\n",
    "with gzip.open(\"soc-LiveJournal1Adj.txt.gz\") as f1:\n",
    "    for k1, line in enumerate(f1.readlines()):\n",
    "            try:\n",
    "                u1, friends1 = line.decode().strip().split(\"\\t\")\n",
    "                u1 = int(u1)\n",
    "                friends1 = set(int(f) for f in friends1.split(\",\"))\n",
    "            except:\n",
    "                continue\n",
    "    with gzip.open('soc-LiveJournal1Adj.txt.gz') as f2:\n",
    "        for k2, line in enumerate(f2.readlines()):\n",
    "            if k2 == k1:\n",
    "                continue\n",
    "            else:\n",
    "                try:\n",
    "                    u2, friends2 = line.decode().strip().split(\"\\t\")\n",
    "                    u2 = int(u2)\n",
    "                    friends2 = set(int(f) for f in friends2.split(\",\"))\n",
    "                except:\n",
    "                    continue\n"
   ]
  },
  {
   "cell_type": "code",
   "execution_count": null,
   "metadata": {},
   "outputs": [],
   "source": []
  }
 ],
 "metadata": {
  "kernelspec": {
   "display_name": "Python 3",
   "language": "python",
   "name": "python3"
  },
  "language_info": {
   "codemirror_mode": {
    "name": "ipython",
    "version": 3
   },
   "file_extension": ".py",
   "mimetype": "text/x-python",
   "name": "python",
   "nbconvert_exporter": "python",
   "pygments_lexer": "ipython3",
   "version": "3.10.8"
  },
  "orig_nbformat": 4,
  "vscode": {
   "interpreter": {
    "hash": "609973a2d1f31d45d1c4d9f5c0b4ecf9cb33fe1a555b03392724c0cdbb5c54ba"
   }
  }
 },
 "nbformat": 4,
 "nbformat_minor": 2
}
